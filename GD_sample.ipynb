{
  "nbformat": 4,
  "nbformat_minor": 0,
  "metadata": {
    "colab": {
      "name": "GD_sample.ipynb",
      "provenance": [],
      "authorship_tag": "ABX9TyO7kINj0P6gdwQNDOuPgJM1",
      "include_colab_link": true
    },
    "kernelspec": {
      "name": "python3",
      "display_name": "Python 3"
    }
  },
  "cells": [
    {
      "cell_type": "markdown",
      "metadata": {
        "id": "view-in-github",
        "colab_type": "text"
      },
      "source": [
        "<a href=\"https://colab.research.google.com/github/TruongScotl/learning-gradient-descent/blob/main/GD_sample.ipynb\" target=\"_parent\"><img src=\"https://colab.research.google.com/assets/colab-badge.svg\" alt=\"Open In Colab\"/></a>"
      ]
    },
    {
      "cell_type": "code",
      "metadata": {
        "id": "UqmG8orHP19Q"
      },
      "source": [
        "from __future__ import division, print_function, unicode_literals\n",
        "import math\n",
        "import numpy as np \n",
        "import matplotlib.pyplot as plt"
      ],
      "execution_count": null,
      "outputs": []
    },
    {
      "cell_type": "markdown",
      "metadata": {
        "id": "wqOEHQkpQSkn"
      },
      "source": [
        "Xét hàm số f(x)=x2+5sin(x) với đạo hàm f′(x)=2x+5cos(x). Giả sử bắt đầu từ một điểm x0 nào đó, tại vòng lặp thứ t, chúng ta sẽ cập nhật như sau:\n",
        "xt+1=xt−η(2xt+5cos(xt))\n"
      ]
    },
    {
      "cell_type": "code",
      "metadata": {
        "id": "UOkwgxa0QFJ9"
      },
      "source": [
        "#grad để tính đạo hàm\n",
        "def grad(x):\n",
        "  return 2*x + 5*np.cos(x)\n",
        "#cost để tính giá trị của hàm số (thường được dùng để kiểm tra việc tính đạo hàm có đúng không \n",
        "# hoặc kiểm tra hàm số có giảm theo mỗi vòng lặp không)\n",
        "def cost(x):\n",
        "  return x**2 + 5*np.sin(x)\n",
        "#myGD1 là phần thực hiện thuật toán gradient, eta: learning rate và điểm bắt đầu\n",
        "def myGD1(eta, x0):\n",
        "    x = [x0]\n",
        "    for it in range(100):\n",
        "        x_new = x[-1] - eta*grad(x[-1])\n",
        "        if abs(grad(x_new)) < 1e-3:\n",
        "            break\n",
        "        x.append(x_new)\n",
        "    return (x, it)\n"
      ],
      "execution_count": null,
      "outputs": []
    },
    {
      "cell_type": "code",
      "metadata": {
        "colab": {
          "base_uri": "https://localhost:8080/"
        },
        "id": "QEKN_DrORz3i",
        "outputId": "b3e8e40b-a6ce-4892-fc2a-9cba23630e01"
      },
      "source": [
        "(x1, it1) = myGD1(.1, -5)\n",
        "(x2, it2) = myGD1(.1, 5)\n",
        "print('Solution x1 = %f, cost = %f, obtained after %d iterations'%(x1[-1], cost(x1[-1]), it1))\n",
        "print('Solution x2 = %f, cost = %f, obtained after %d iterations'%(x2[-1], cost(x2[-1]), it2))"
      ],
      "execution_count": null,
      "outputs": [
        {
          "output_type": "stream",
          "text": [
            "Solution x1 = -1.110667, cost = -3.246394, obtained after 11 iterations\n",
            "Solution x2 = -1.110341, cost = -3.246394, obtained after 29 iterations\n"
          ],
          "name": "stdout"
        }
      ]
    }
  ]
}